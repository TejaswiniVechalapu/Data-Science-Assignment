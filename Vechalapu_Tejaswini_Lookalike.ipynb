{
  "nbformat": 4,
  "nbformat_minor": 0,
  "metadata": {
    "colab": {
      "provenance": []
    },
    "kernelspec": {
      "name": "python3",
      "display_name": "Python 3"
    },
    "language_info": {
      "name": "python"
    }
  },
  "cells": [
    {
      "cell_type": "code",
      "execution_count": 1,
      "metadata": {
        "id": "eYkPzp7t-Q7Q"
      },
      "outputs": [],
      "source": [
        "import pandas as pd\n",
        "from sklearn.preprocessing import OneHotEncoder, StandardScaler\n",
        "from sklearn.metrics.pairwise import cosine_similarity"
      ]
    },
    {
      "cell_type": "code",
      "source": [
        "# Load datasets\n",
        "customers = pd.read_csv(\"/content/drive/MyDrive/Classroom/Customers.csv\")\n",
        "products = pd.read_csv(\"/content/drive/MyDrive/Classroom/Products.csv\")\n",
        "transactions = pd.read_csv(\"/content/drive/MyDrive/Classroom/Transactions.csv\")"
      ],
      "metadata": {
        "id": "uWur4Hjf_SME"
      },
      "execution_count": 2,
      "outputs": []
    },
    {
      "cell_type": "code",
      "source": [
        "# Merge datasets\n",
        "merged_data = transactions.merge(customers, on=\"CustomerID\").merge(products, on=\"ProductID\")\n"
      ],
      "metadata": {
        "id": "IhuGcYyC_dlU"
      },
      "execution_count": 3,
      "outputs": []
    },
    {
      "cell_type": "markdown",
      "source": [
        " Feature Engineering"
      ],
      "metadata": {
        "id": "OHggPjjb_gJk"
      }
    },
    {
      "cell_type": "code",
      "source": [
        "# Customer-level aggregation\n",
        "customer_features = merged_data.groupby(\"CustomerID\").agg({\n",
        "    \"TotalValue\": \"sum\",  # Total spending\n",
        "    \"Quantity\": \"sum\",   # Total quantity purchased\n",
        "    \"Category\": lambda x: x.mode()[0],  # Most purchased category\n",
        "}).reset_index()"
      ],
      "metadata": {
        "id": "VkUi_-_Z_nQb"
      },
      "execution_count": 4,
      "outputs": []
    },
    {
      "cell_type": "code",
      "source": [
        "# Merge with customer profile data\n",
        "customer_features = customer_features.merge(customers, on=\"CustomerID\")"
      ],
      "metadata": {
        "id": "MkFGn1RMASjt"
      },
      "execution_count": 5,
      "outputs": []
    },
    {
      "cell_type": "code",
      "source": [
        "# One-hot encoding for 'Region' and 'Category'\n",
        "encoder = OneHotEncoder()\n",
        "encoded_features = encoder.fit_transform(customer_features[[\"Region\", \"Category\"]]).toarray()\n",
        "encoded_feature_names = encoder.get_feature_names_out([\"Region\", \"Category\"])\n",
        "encoded_df = pd.DataFrame(encoded_features, columns=encoded_feature_names)"
      ],
      "metadata": {
        "id": "bGpxkrMIAU3N"
      },
      "execution_count": 6,
      "outputs": []
    },
    {
      "cell_type": "code",
      "source": [
        "# Normalize numerical features\n",
        "scaler = StandardScaler()\n",
        "numerical_features = customer_features[[\"TotalValue\", \"Quantity\"]]\n",
        "normalized_numerical = scaler.fit_transform(numerical_features)\n",
        "normalized_df = pd.DataFrame(normalized_numerical, columns=[\"TotalValue_scaled\", \"Quantity_scaled\"])"
      ],
      "metadata": {
        "id": "oR5xTlRyAXA0"
      },
      "execution_count": 7,
      "outputs": []
    },
    {
      "cell_type": "code",
      "source": [
        "# Combine all features\n",
        "final_features = pd.concat([encoded_df, normalized_df], axis=1)"
      ],
      "metadata": {
        "id": "tV_tehb7AZut"
      },
      "execution_count": 8,
      "outputs": []
    },
    {
      "cell_type": "code",
      "source": [
        "# Compute similarity\n",
        "similarity_matrix = cosine_similarity(final_features)"
      ],
      "metadata": {
        "id": "zd8QTCS_Ab8D"
      },
      "execution_count": 9,
      "outputs": []
    },
    {
      "cell_type": "code",
      "source": [
        "# Create lookalike recommendations\n",
        "lookalike_recommendations = {}\n",
        "customer_ids = customer_features[\"CustomerID\"].tolist()\n",
        "\n",
        "for i, customer_id in enumerate(customer_ids[:20]):  # For first 20 customers\n",
        "    similarity_scores = list(enumerate(similarity_matrix[i]))\n",
        "    sorted_scores = sorted(similarity_scores, key=lambda x: x[1], reverse=True)[1:4]  # Top 3 similar customers\n",
        "    lookalike_recommendations[customer_id] = [(customer_ids[j], round(score, 4)) for j, score in sorted_scores]"
      ],
      "metadata": {
        "id": "Dxlmmf6eAfkF"
      },
      "execution_count": 10,
      "outputs": []
    },
    {
      "cell_type": "code",
      "source": [
        "# Save recommendations to CSV\n",
        "lookalike_df = pd.DataFrame([\n",
        "    {\"cust_id\": cust_id, \"lookalikes\": str(lookalike_recommendations[cust_id])}\n",
        "    for cust_id in lookalike_recommendations\n",
        "])\n",
        "lookalike_df.to_csv(\"Vechalapu_Tejaswini_Lookalike.csv\", index=False)"
      ],
      "metadata": {
        "id": "eiALBGQtAiod"
      },
      "execution_count": 11,
      "outputs": []
    }
  ]
}